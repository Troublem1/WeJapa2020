{
 "cells": [
  {
   "cell_type": "markdown",
   "metadata": {
    "heading_collapsed": true
   },
   "source": [
    "# Lab 1 of 1"
   ]
  },
  {
   "cell_type": "code",
   "execution_count": 3,
   "metadata": {
    "hidden": true
   },
   "outputs": [
    {
     "name": "stdout",
     "output_type": "stream",
     "text": [
      "31\n"
     ]
    }
   ],
   "source": [
    "#Quiz: List Indexing\n",
    "#Use list indexing to determine how many days are in a particular month based on the integer variable month, and store that value in the integer variable num_days. For example, if month is 8, num_days should be set to 31, since the eighth month, August, has 31 days.\n",
    "\n",
    "#Remember to account for zero-based indexing!\n",
    "\n",
    "\n",
    "\n",
    "month = 8\n",
    "days_in_month = [31,28,31,30,31,30,31,31,30,31,30,31]\n",
    "\n",
    "# use list indexing to determine the number of days in month\n",
    "def no_days(num):\n",
    "    return days_in_month[num-1]\n",
    "\n",
    "num_days = no_days(8)\n",
    "\n",
    "print(num_days)"
   ]
  },
  {
   "cell_type": "markdown",
   "metadata": {
    "heading_collapsed": true
   },
   "source": [
    "# Lab 1 of 2"
   ]
  },
  {
   "cell_type": "code",
   "execution_count": 4,
   "metadata": {
    "hidden": true
   },
   "outputs": [
    {
     "name": "stdout",
     "output_type": "stream",
     "text": [
      "['July 11, 2010', 'November 13, 2012', 'March 20, 2015']\n"
     ]
    }
   ],
   "source": [
    "#Quiz: Slicing Lists\n",
    "#Select the three most recent dates from this list using list slicing notation. Hint: negative indexes work in slices!\n",
    "\n",
    "eclipse_dates = ['June 21, 2001', 'December 4, 2002', 'November 23, 2003',\n",
    "                 'March 29, 2006', 'August 1, 2008', 'July 22, 2009',\n",
    "                 'July 11, 2010', 'November 13, 2012', 'March 20, 2015',\n",
    "                 'March 9, 2016']\n",
    "                 \n",
    "                 \n",
    "# TODO: Modify this line so it prints the last three elements of the list\n",
    "\n",
    "print(eclipse_dates[-4:-1])"
   ]
  },
  {
   "cell_type": "markdown",
   "metadata": {
    "heading_collapsed": true
   },
   "source": [
    "# Lab 1 of 3"
   ]
  },
  {
   "cell_type": "code",
   "execution_count": 5,
   "metadata": {
    "hidden": true
   },
   "outputs": [
    {
     "name": "stdout",
     "output_type": "stream",
     "text": [
      "Copied list: [31, 28, 31, 30, 31, 30, 31, 31, 30, 31, 30, 31]\n",
      "Appended list:[31, 28, 31, 30, 31, 30, 31, 31, 30, 31, 30, 31, 2]\n",
      "Cleared list:[]\n",
      "Count of list element:7\n",
      "Extended list:[31, 28, 31, 30, 31, 30, 31, 31, 30, 31, 30, 31, 1, 2]\n",
      "Index:0\n",
      "Sorted list:[1, 2, 28, 30, 30, 30, 30, 31, 31, 31, 31, 31, 31, 31]\n",
      "Reversed list:[31, 31, 31, 31, 31, 31, 31, 30, 30, 30, 30, 28, 2, 1]\n",
      "inserted 0 to pos 4 in list:[31, 31, 31, 31, 0, 31, 31, 31, 30, 30, 30, 30, 28, 2, 1]\n",
      "Removed 28 from list:[31, 31, 31, 31, 0, 31, 31, 31, 30, 30, 30, 30, 2, 1]\n",
      "popped 1 out of list:[31, 31, 31, 31, 0, 31, 31, 31, 30, 30, 30, 30, 2]\n"
     ]
    }
   ],
   "source": [
    "# Use this playground to experiment with list methods, using Test Run\n",
    "\n",
    "Test_Run = days_in_month.copy()               #Returns a copy of the list\n",
    "print('Copied list:', Test_Run)\n",
    "\n",
    "Test_Run.append(2)                                    #Adds an element at the end of the list\n",
    "print('Appended list:{}'.format(Test_Run))\n",
    "\n",
    "Test_Run.clear()                                       #Removes all the elements from the list\n",
    "print('Cleared list:{}'.format(Test_Run))\n",
    "\n",
    "Test_Run = days_in_month.copy()                         #new copy\n",
    "\n",
    "print('Count of list element:{}'.format(Test_Run.count(31)))            #Returns the number of elements with the specified value\n",
    "\n",
    "Test_Run.extend([1,2])                            #Add the elements of a list (or any iterable), to the end of the current list\n",
    "print('Extended list:{}'.format(Test_Run))           \n",
    "\n",
    "print('Index:{}'.format(Test_Run.index(31)))          #Returns the index of the first element with the specified value\n",
    "\n",
    "Test_Run.sort()                                     #returns a sorted list. by default :ascending order\n",
    "print('Sorted list:{}'.format(Test_Run))\n",
    "\n",
    "Test_Run.reverse()                                     #Reverses the order of the list\n",
    "print('Reversed list:{}'.format(Test_Run))\n",
    "\n",
    "Test_Run.insert(4,0)                                     #Adds an element at the specified position\n",
    "print('inserted 0 to pos 4 in list:{}'.format(Test_Run))\n",
    "\n",
    "Test_Run.remove(28)                                     #Removes the first item with the specified value\n",
    "print('Removed 28 from list:{}'.format(Test_Run))\n",
    "\n",
    "Test_Run.pop(-1)                                     #removes the element at the specified position\n",
    "print('popped 1 out of list:{}'.format(Test_Run))"
   ]
  },
  {
   "cell_type": "markdown",
   "metadata": {
    "heading_collapsed": true
   },
   "source": [
    "# Lab 1 of 4"
   ]
  },
  {
   "cell_type": "code",
   "execution_count": 6,
   "metadata": {
    "hidden": true
   },
   "outputs": [
    {
     "data": {
      "text/plain": [
       "{'Shanghai': 17.8, 'Istanbul': 13.3, 'Karachi': 13.0, 'Mumbai': 12.5}"
      ]
     },
     "execution_count": 6,
     "metadata": {},
     "output_type": "execute_result"
    }
   ],
   "source": [
    "# Define a Dictionary, population,\n",
    "# that provides information\n",
    "# on the world's largest cities.\n",
    "# The key is the name of a city\n",
    "# (a string), and the associated\n",
    "# value is its population in\n",
    "# millions of people.\n",
    "\n",
    "#   Key     |   Value\n",
    "# Shanghai  |   17.8\n",
    "# Istanbul  |   13.3\n",
    "# Karachi   |   13.0\n",
    "# Mumbai    |   12.5\n",
    "\n",
    "cities = ['Shanghai','Istanbul','Karachi','Mumbai']     #list of keys\n",
    "cities_populace = [17.8,13.3,13.0,12.5]                 #list of values\n",
    "\n",
    "citydict = dict(zip(cities, cities_populace))           #zipped into dict of key-value pair\n",
    "citydict"
   ]
  },
  {
   "cell_type": "markdown",
   "metadata": {
    "heading_collapsed": true
   },
   "source": [
    "# Lab 1 of 5"
   ]
  },
  {
   "cell_type": "code",
   "execution_count": 7,
   "metadata": {
    "hidden": true
   },
   "outputs": [
    {
     "name": "stdout",
     "output_type": "stream",
     "text": [
      "False\n",
      "True\n"
     ]
    }
   ],
   "source": [
    "elements = {'hydrogen': {'number': 1, 'weight': 1.00794, 'symbol': 'H'},\n",
    "            'helium': {'number': 2, 'weight': 4.002602, 'symbol': 'He'}}\n",
    "\n",
    "# todo: Add an 'is_noble_gas' entry to the hydrogen and helium dictionaries\n",
    "# hint: helium is a noble gas, hydrogen isn't\n",
    "\n",
    "elements['hydrogen']['is_noble_gas']= False\n",
    "elements['helium']['is_noble_gas'] = True\n",
    "\n",
    "#hint: After inserting the new entries you should be able to perform these lookups:\n",
    "print(elements['hydrogen']['is_noble_gas']) #False\n",
    "print(elements['helium']['is_noble_gas'])    #True"
   ]
  },
  {
   "cell_type": "markdown",
   "metadata": {
    "heading_collapsed": true
   },
   "source": [
    "# Lab 1 of 6"
   ]
  },
  {
   "cell_type": "code",
   "execution_count": 10,
   "metadata": {
    "hidden": true
   },
   "outputs": [
    {
     "name": "stdout",
     "output_type": "stream",
     "text": [
      "if you can keep your head when all about you are losing theirs and blaming it on you   if you can trust yourself when all men doubt you     but make allowance for their doubting too   if you can wait and not be tired by waiting      or being lied about  don’t deal in lies   or being hated  don’t give way to hating      and yet don’t look too good  nor talk too wise \n",
      "\n",
      "['if', 'you', 'can', 'keep', 'your', 'head', 'when', 'all', 'about', 'you', 'are', 'losing', 'theirs', 'and', 'blaming', 'it', 'on', 'you', '', '', 'if', 'you', 'can', 'trust', 'yourself', 'when', 'all', 'men', 'doubt', 'you', '', '', '', '', 'but', 'make', 'allowance', 'for', 'their', 'doubting', 'too', '', '', 'if', 'you', 'can', 'wait', 'and', 'not', 'be', 'tired', 'by', 'waiting', '', '', '', '', '', 'or', 'being', 'lied', 'about', '', 'don’t', 'deal', 'in', 'lies', '', '', 'or', 'being', 'hated', '', 'don’t', 'give', 'way', 'to', 'hating', '', '', '', '', '', 'and', 'yet', 'don’t', 'look', 'too', 'good', '', 'nor', 'talk', 'too', 'wise'] \n",
      "\n",
      "{'', 'hating', 'not', 'to', 'keep', 'doubt', 'for', 'be', 'lied', 'their', 'good', 'in', 'blaming', 'too', 'look', 'losing', 'make', 'are', 'doubting', 'can', 'waiting', 'nor', 'if', 'lies', 'or', 'don’t', 'hated', 'when', 'yourself', 'trust', 'but', 'head', 'all', 'it', 'on', 'about', 'deal', 'you', 'your', 'tired', 'give', 'by', 'way', 'yet', 'wait', 'being', 'talk', 'wise', 'men', 'and', 'theirs', 'allowance'} \n",
      "\n",
      "52 \n",
      "\n"
     ]
    }
   ],
   "source": [
    "#COUNT UNIQUE WORDS\n",
    "\n",
    "#Your task for this quiz is to find the number of unique words in the text. In the code editor below, complete these three steps to get your answer.\n",
    "#1. Split verse into a list of words. Hint: You can use a string method you learned in the previous lesson.\n",
    "#2. Convert the list into a data structure that would keep only the unique elements from the list.\n",
    "#3. Print the length of the container.\n",
    "\n",
    "verse = \"if you can keep your head when all about you are losing theirs and blaming it on you   if you can trust yourself when all men doubt you     but make allowance for their doubting too   if you can wait and not be tired by waiting      or being lied about  don’t deal in lies   or being hated  don’t give way to hating      and yet don’t look too good  nor talk too wise\"\n",
    "print(verse, '\\n')\n",
    "\n",
    "# split verse into list of words\n",
    "verse_list =verse.split(\" \")\n",
    "print(verse_list, '\\n')\n",
    "\n",
    "#convert list to a data structure that stores unique elements\n",
    "verse_set = set(verse_list)\n",
    "print(verse_set, '\\n')\n",
    "\n",
    "# print the number of unique words\n",
    "num_unique = len(verse_set)\n",
    "print(num_unique, '\\n')"
   ]
  },
  {
   "cell_type": "markdown",
   "metadata": {
    "heading_collapsed": true
   },
   "source": [
    "# Lab 1 of 7"
   ]
  },
  {
   "cell_type": "code",
   "execution_count": 113,
   "metadata": {
    "hidden": true
   },
   "outputs": [
    {
     "name": "stdout",
     "output_type": "stream",
     "text": [
      "{'if': 3, 'you': 6, 'can': 3, 'keep': 1, 'your': 1, 'head': 1, 'when': 2, 'all': 2, 'about': 2, 'are': 1, 'losing': 1, 'theirs': 1, 'and': 3, 'blaming': 1, 'it': 1, 'on': 1, 'trust': 1, 'yourself': 1, 'men': 1, 'doubt': 1, 'but': 1, 'make': 1, 'allowance': 1, 'for': 1, 'their': 1, 'doubting': 1, 'too': 3, 'wait': 1, 'not': 1, 'be': 1, 'tired': 1, 'by': 1, 'waiting': 1, 'or': 2, 'being': 2, 'lied': 1, \"don't\": 3, 'deal': 1, 'in': 1, 'lies': 1, 'hated': 1, 'give': 1, 'way': 1, 'to': 1, 'hating': 1, 'yet': 1, 'look': 1, 'good': 1, 'nor': 1, 'talk': 1, 'wise': 1} \n",
      "\n",
      "unique keys in verse_dict:dict_keys(['if', 'you', 'can', 'keep', 'your', 'head', 'when', 'all', 'about', 'are', 'losing', 'theirs', 'and', 'blaming', 'it', 'on', 'trust', 'yourself', 'men', 'doubt', 'but', 'make', 'allowance', 'for', 'their', 'doubting', 'too', 'wait', 'not', 'be', 'tired', 'by', 'waiting', 'or', 'being', 'lied', \"don't\", 'deal', 'in', 'lies', 'hated', 'give', 'way', 'to', 'hating', 'yet', 'look', 'good', 'nor', 'talk', 'wise']) \n",
      "\n",
      "contains_breathe: False\n",
      "first element of sorted list key: about\n",
      "Element with the highest value in the list of keys: yourself\n",
      "first key in verse_dict:if\n"
     ]
    }
   ],
   "source": [
    "verse_dict =  {'if': 3, 'you': 6, 'can': 3, 'keep': 1, 'your': 1, 'head': 1, 'when': 2, 'all': 2, 'about': 2, 'are': 1, 'losing': 1, 'theirs': 1, 'and': 3, 'blaming': 1, 'it': 1, 'on': 1, 'trust': 1, 'yourself': 1, 'men': 1, 'doubt': 1, 'but': 1, 'make': 1, 'allowance': 1, 'for': 1, 'their': 1, 'doubting': 1, 'too': 3, 'wait': 1, 'not': 1, 'be': 1, 'tired': 1, 'by': 1, 'waiting': 1, 'or': 2, 'being': 2, 'lied': 1, 'don\\'t': 3, 'deal': 1, 'in': 1, 'lies': 1, 'hated': 1, 'give': 1, 'way': 1, 'to': 1, 'hating': 1, 'yet': 1, 'look': 1, 'good': 1, 'nor': 1, 'talk': 1, 'wise': 1}\n",
    "print(verse_dict, '\\n')\n",
    "\n",
    "# find number of unique keys in the dictionary\n",
    "num_keys = verse_dict.keys()\n",
    "print('unique keys in verse_dict:{} \\n'.format(num_keys))\n",
    "\n",
    "# find whether 'breathe' is a key in the dictionary\n",
    "contains_breathe = 'breathe' in verse_dict.keys()\n",
    "print('contains_breathe: {}'.format(contains_breathe))\n",
    "\n",
    "# create and sort a list of the dictionary's keys\n",
    "sorted_keys = sorted(list(num_keys))\n",
    "\n",
    "# get the first element in the sorted list of keys\n",
    "print('first element of sorted list key: {}'.format(sorted_keys[0]))\n",
    "\n",
    "# find the element with the highest value in the list of keys\n",
    "print('Element with the highest value in the list of keys: {}'.format(max(sorted_keys)))\n",
    "\n",
    "#bonus_question_what_is_the_first_key_in_verse_dict =\n",
    "first_keyin_verse_dict = list(verse_dict.keys())[0]\n",
    "print('first key in verse_dict:{}'.format(first_keyin_verse_dict))"
   ]
  }
 ],
 "metadata": {
  "kernelspec": {
   "display_name": "Python 3",
   "language": "python",
   "name": "python3"
  },
  "language_info": {
   "codemirror_mode": {
    "name": "ipython",
    "version": 3
   },
   "file_extension": ".py",
   "mimetype": "text/x-python",
   "name": "python",
   "nbconvert_exporter": "python",
   "pygments_lexer": "ipython3",
   "version": "3.7.5"
  }
 },
 "nbformat": 4,
 "nbformat_minor": 4
}
