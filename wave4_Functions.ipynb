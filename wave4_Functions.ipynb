{
 "cells": [
  {
   "cell_type": "markdown",
   "metadata": {
    "heading_collapsed": true
   },
   "source": [
    "# 1.pop_density"
   ]
  },
  {
   "cell_type": "code",
   "execution_count": 52,
   "metadata": {
    "hidden": true
   },
   "outputs": [
    {
     "name": "stdout",
     "output_type": "stream",
     "text": [
      "expected result: 10, actual result: 10.0\n",
      "expected result: 7123.6902801, actual result: 7123.6902801\n"
     ]
    }
   ],
   "source": [
    "# write your function here\n",
    "\n",
    "def population_density(large, exp):\n",
    "    return round(large/exp,7)\n",
    "\n",
    "# test cases for your function\n",
    "test1 = population_density(10, 1)\n",
    "expected_result1 = 10\n",
    "print(\"expected result: {}, actual result: {}\".format(expected_result1, test1))\n",
    "\n",
    "test2 = population_density(864816, 121.4)\n",
    "expected_result2 = 7123.6902801\n",
    "print(\"expected result: {}, actual result: {}\".format(expected_result2, test2))"
   ]
  },
  {
   "cell_type": "markdown",
   "metadata": {
    "heading_collapsed": true
   },
   "source": [
    "# 2.student"
   ]
  },
  {
   "cell_type": "code",
   "execution_count": 53,
   "metadata": {
    "hidden": true
   },
   "outputs": [
    {
     "name": "stdout",
     "output_type": "stream",
     "text": [
      "1 week(s) and 3 day(s)\n"
     ]
    }
   ],
   "source": [
    "#Write a function named readable_timedelta.\n",
    "#The function should take one argument, an integer days, and return a string that says how many weeks and days that is.\n",
    "#For example, calling the function and printing the result like this:\n",
    "\n",
    "def readable_timedelta(num):\n",
    "    \n",
    "    '''Calculates number of days and weeks\n",
    "    Args:\n",
    "        num: Int. current number of days\n",
    "    returns:\n",
    "            number of weeks and days  in a string\n",
    "    '''\n",
    "    if isinstance(num , int):\n",
    "        days = num\n",
    "        days_in_a_week = 7\n",
    "        \n",
    "        remaining_days = days % days_in_a_week\n",
    "        current_weeks = days//days_in_a_week\n",
    "        if days - days_in_a_week < 7:\n",
    "            return '{} week(s) and {} day(s)'.format(current_weeks ,remaining_days)\n",
    "        \n",
    "        elif days - days_in_a_week > 7:\n",
    "            return '{} week(s) and {} day(s)'.format(current_weeks ,remaining_days)\n",
    "    else:\n",
    "        return 'Enter an Integer representing number of days!!'\n",
    "\n",
    "\n",
    "# test your function\n",
    "print(readable_timedelta(10))"
   ]
  },
  {
   "cell_type": "markdown",
   "metadata": {
    "heading_collapsed": true
   },
   "source": [
    "# 3.docstring"
   ]
  },
  {
   "cell_type": "code",
   "execution_count": 44,
   "metadata": {
    "hidden": true
   },
   "outputs": [],
   "source": [
    "def readable_timedelta(days):\n",
    "    '''Calculates number of days and weeks\n",
    "    Args:\n",
    "        days: Int. current number of days\n",
    "    returns:\n",
    "            number of weeks and days  in a string format\n",
    "    '''\n",
    "    \n",
    "    weeks = days // 7\n",
    "    remainder = days % 7\n",
    "    return \"{} week(s) and {} day(s)\".format(weeks, remainder)"
   ]
  },
  {
   "cell_type": "markdown",
   "metadata": {
    "heading_collapsed": true
   },
   "source": [
    "# 4.lambda_map"
   ]
  },
  {
   "cell_type": "code",
   "execution_count": 54,
   "metadata": {
    "hidden": true
   },
   "outputs": [
    {
     "name": "stdout",
     "output_type": "stream",
     "text": [
      "[57.0, 58.2, 50.6, 27.2]\n"
     ]
    }
   ],
   "source": [
    "#map() is a higher-order built-in function that takes a function and iterable as inputs, \n",
    "# and returns an iterator that applies the function to each element of the iterable.\n",
    "#The code below uses map() to find the mean of each list in numbers to create the list averages.\n",
    "#Give it a test run to see what happens.\n",
    "\n",
    "#Rewrite this code to be more concise by replacing the mean function with a lambda expression defined within the call to map().\n",
    "\n",
    "\n",
    "numbers = [\n",
    "              [34, 63, 88, 71, 29],\n",
    "              [90, 78, 51, 27, 45],\n",
    "              [63, 37, 85, 46, 22],\n",
    "              [51, 22, 34, 11, 18]\n",
    "           ]\n",
    "\n",
    "mean = lambda num_list: sum(num_list) / len(num_list)\n",
    "\n",
    "#def mean(num_list):\n",
    "#    return sum(num_list) / len(num_list)\n",
    "\n",
    "averages = list(map(mean, numbers))\n",
    "print(averages)"
   ]
  },
  {
   "cell_type": "markdown",
   "metadata": {
    "heading_collapsed": true
   },
   "source": [
    "# 5.lambda_filter"
   ]
  },
  {
   "cell_type": "code",
   "execution_count": 55,
   "metadata": {
    "hidden": true
   },
   "outputs": [
    {
     "name": "stdout",
     "output_type": "stream",
     "text": [
      "['Chicago', 'Denver', 'Boston']\n"
     ]
    }
   ],
   "source": [
    "#filter() is a higher-order built-in function that takes a function and iterable as inputs and returns an iterator with the elements from the iterable for which the function returns True.\n",
    "#The code below uses filter() to get the names in cities that are fewer than 10 characters long to create the list short_cities. Give it a test run to see what happens.\n",
    "\n",
    "#Rewrite this code to be more concise by replacing the is_short function with a lambda expression defined within the call to filter().\n",
    "\n",
    "\n",
    "cities = [\"New York City\", \"Los Angeles\", \"Chicago\", \"Mountain View\", \"Denver\", \"Boston\"]\n",
    "\n",
    "is_short = lambda name: len(name) < 10\n",
    "\n",
    "#def is_short(name):\n",
    "#    return len(name) < 10\n",
    "\n",
    "short_cities = list(filter(is_short, cities))\n",
    "print(short_cities)"
   ]
  }
 ],
 "metadata": {
  "kernelspec": {
   "display_name": "Python 3",
   "language": "python",
   "name": "python3"
  },
  "language_info": {
   "codemirror_mode": {
    "name": "ipython",
    "version": 3
   },
   "file_extension": ".py",
   "mimetype": "text/x-python",
   "name": "python",
   "nbconvert_exporter": "python",
   "pygments_lexer": "ipython3",
   "version": "3.7.5"
  }
 },
 "nbformat": 4,
 "nbformat_minor": 4
}
