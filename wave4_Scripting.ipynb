{
 "cells": [
  {
   "cell_type": "markdown",
   "metadata": {
    "heading_collapsed": true
   },
   "source": [
    "# cast_list"
   ]
  },
  {
   "cell_type": "code",
   "execution_count": 4,
   "metadata": {
    "hidden": true,
    "scrolled": true
   },
   "outputs": [
    {
     "name": "stdout",
     "output_type": "stream",
     "text": [
      "Graham Chapman\n",
      "Eric Idle\n",
      "Terry Jones\n",
      "Michael Palin\n",
      "Terry Gilliam\n",
      "John Cleese\n",
      "Carol Cleveland\n",
      "Ian Davidson\n",
      "John Hughman\n",
      "The Fred Tomlinson Singers\n",
      "Connie Booth\n",
      "Bob Raymond\n",
      "Lyn Ashley\n",
      "Rita Davies\n",
      "Stanley Mason\n",
      "David Ballantyne\n",
      "Donna Reading\n",
      "Peter Brett\n",
      "Maureen Flanagan\n",
      "Katya Wyeth\n",
      "Frank Lester\n",
      "Neil Innes\n",
      "Dick Vosburgh\n",
      "Sandra Richards\n",
      "Julia Breck\n",
      "Nicki Howorth\n",
      "Jimmy Hill\n",
      "Barry Cryer\n",
      "Jeannette Wild\n",
      "Marjorie Wilde\n",
      "Marie Anderson\n",
      "Caron Gardner\n",
      "Nosher Powell\n",
      "Carolae Donoghue\n",
      "Vincent Wong\n",
      "Helena Clayton\n",
      "Nigel Jones\n",
      "Roy Gunson\n",
      "Daphne Davey\n",
      "Stenson Falke\n",
      "Alexander Curry\n",
      "Frank Williams\n",
      "Ralph Wood\n",
      "Rosalind Bailey\n",
      "Marion Mould\n",
      "Sheila Sands\n",
      "Richard Baker\n",
      "Douglas Adams\n",
      "Ewa Aulin\n",
      "Reginald Bosanquet\n",
      "Barbara Lindley\n",
      "Roy Brent\n",
      "Jonas Card\n",
      "Tony Christopher\n",
      "Beulah Hughes\n",
      "Peter Kodak\n",
      "Lulu\n",
      "Jay Neill\n",
      "Graham Skidmore\n",
      "Ringo Starr\n",
      "Fred Tomlinson\n",
      "David Hamilton\n",
      "Suzy Mandel\n",
      "Peter Woods\n"
     ]
    }
   ],
   "source": [
    "#You're going to create a list of the actors who appeared in the television programme Monty Python's Flying Circus.\n",
    "\n",
    "#Write a function called create_cast_list that takes a filename as input and returns a list of actors' names. It will be run on the file flying_circus_cast.txt (this information was collected from imdb.com). Each line of that file consists of an actor's name, a comma, and then some (messy) information about roles they played in the programme. You'll need to extract only the name and add it to a list. You might use the .split() method to process each line.\n",
    "\n",
    "def create_cast_list(filename):\n",
    "    cast_list =  []\n",
    "    with open ('{}'.format(filename), 'r') as file:\n",
    "        files = file.readlines()\n",
    "    for i in files:\n",
    "        cast_list.append(i.partition(',')[0])\n",
    "    #use with to open the file filename\n",
    "    #use the for loop syntax to process each line\n",
    "    #and add the actor name to cast_list\n",
    "    return cast_list\n",
    "\n",
    "cast_list = create_cast_list('flying_circus_cast.txt')\n",
    "for actor in cast_list:\n",
    "    print(actor)"
   ]
  },
  {
   "cell_type": "markdown",
   "metadata": {
    "heading_collapsed": true
   },
   "source": [
    "# expquiz"
   ]
  },
  {
   "cell_type": "code",
   "execution_count": 5,
   "metadata": {
    "hidden": true
   },
   "outputs": [
    {
     "name": "stdout",
     "output_type": "stream",
     "text": [
      "Using math.power: 20.085536923187664\n",
      "Using math.exp: 20.085536923187668\n"
     ]
    }
   ],
   "source": [
    "#It's your turn to import and use the math module. Use the math module to calculate e to the power of 3. print the answer.\n",
    "# print e to the power of 3 using the math module\n",
    "\n",
    "import math\n",
    "\n",
    "#both return same answer  only different in terms of approximations\n",
    "calcpower1 = lambda num:  math.pow(math.e, num)\n",
    "calcpower2 = lambda num: math.exp(num)\n",
    "\n",
    "print('Using math.power: {}'.format(calcpower1(3)))\n",
    "print('Using math.exp: {}'.format(calcpower2(3)))"
   ]
  },
  {
   "cell_type": "markdown",
   "metadata": {
    "heading_collapsed": true
   },
   "source": [
    "# handling_errors"
   ]
  },
  {
   "cell_type": "code",
   "execution_count": null,
   "metadata": {
    "hidden": true
   },
   "outputs": [
    {
     "name": "stdout",
     "output_type": "stream",
     "text": [
      "How many cookies are you baking? 10\n",
      "How many people are attending? 5\n",
      "\n",
      "Let's party! We'll have 5 people attending, they'll each get to eat 2 cookies, and we'll have 0 left over.\n"
     ]
    }
   ],
   "source": [
    "#The party_planner function below takes as input a number of party people and cookies and\n",
    "#figures out how many cookies each person gets at the party, assuming equitable distribution of cookies. \n",
    "#Then, it returns that number along with how many cookies will be left over.\n",
    "\n",
    "#Right now, calling the function with an input of 0 people will cause an error, \n",
    "#because it creates a ZeroDivisionError exception. \n",
    "\n",
    "#Edit the party_planner function to handle this invalid input. If it runs into this exception,\n",
    "#it should print a warning message to the user and request they input a different number of people.\n",
    "\n",
    "#After you've edited the function, try running the file again and make sure it does what you intended.\n",
    "#Try it with several different input values, including 0 and other values for the number of people.\n",
    "\n",
    "\n",
    "def party_planner(cookies, people):\n",
    "    leftovers = None\n",
    "    num_each = None\n",
    "    try:\n",
    "        num_each = cookies // people\n",
    "        leftovers = cookies % people\n",
    "    except ZeroDivisionError:\n",
    "        print('Input a different number other than 0')\n",
    "    return num_each , leftovers\n",
    "\n",
    "\n",
    "# The main code block is below; do not edit this\n",
    "lets_party = 'y'\n",
    "while lets_party == 'y':\n",
    "\n",
    "    cookies = int(input(\"How many cookies are you baking? \"))\n",
    "    people = int(input(\"How many people are attending? \"))\n",
    "    \n",
    "    cookies_each, leftovers = party_planner(cookies, people)\n",
    "\n",
    "        \n",
    "\n",
    "    if cookies_each:  # if cookies_each is not None\n",
    "        message = \"\\nLet's party! We'll have {} people attending, they'll each get to eat {} cookies, and we'll have {} left over.\"\n",
    "        print(message.format(people, cookies_each, leftovers))\n",
    "    lets_party = input(\"\\nWould you like to party more? (y or n) \")\n",
    "    \n"
   ]
  },
  {
   "cell_type": "markdown",
   "metadata": {
    "heading_collapsed": true
   },
   "source": [
    "# input"
   ]
  },
  {
   "cell_type": "code",
   "execution_count": 1,
   "metadata": {
    "hidden": true,
    "scrolled": true
   },
   "outputs": [
    {
     "name": "stdout",
     "output_type": "stream",
     "text": [
      "list of names: Emmanuel Darko, Nana yaw\n",
      "missinng assignments counts: 1,0\n",
      "list of grades: 16,20\n",
      "Hi Emmanuel Darko,\n",
      "\n",
      "This is a reminder that you have 1 assignments left to submit before you can graduate. You're current grade is 16 and can increase to 18 if you submit all assignments before the due date.\n",
      "\n",
      "\n",
      "Hi  Nana yaw,\n",
      "\n",
      "This is a reminder that you have 0 assignments left to submit before you can graduate. You're current grade is 20 and can increase to 20 if you submit all assignments before the due date.\n",
      "\n",
      "\n"
     ]
    }
   ],
   "source": [
    "#Write a script that does the following:\n",
    "\n",
    "#Ask for user input 3 times. Once for a list of names, once for a list of missing assignment counts,\n",
    "#and once for a list of grades. \n",
    "#Use this input to create lists for names, assignments, and grades.\n",
    "\n",
    "#Use a loop to print the message for each student with the correct values.\n",
    "#The potential grade is simply the current grade added to two times the number of missing assignments.\n",
    "#Template code for your script:\n",
    "\n",
    "names =  input(\"list of names: \") # get and process input for a list of names\n",
    "names = names.split(',')\n",
    "\n",
    "assignments =input(\"missinng assignments counts: \") # get and process input for a list of the number of assignments\n",
    "assignments = assignments.split(',')\n",
    "\n",
    "grades =input('list of grades: ')  # get and process input for a list of grades\n",
    "grades = grades.split(',')\n",
    "\n",
    "# message string to be used for each student\n",
    "# HINT: use .format() with this string in your for loop\n",
    "message = \"Hi {},\\n\\nThis is a reminder that you have {} assignments left to \\\n",
    "submit before you can graduate. You're current grade is {} and can increase \\\n",
    "to {} if you submit all assignments before the due date.\\n\\n\"\n",
    "\n",
    "# write a for loop that iterates through each set of names, assignments, and grades to print each student's message\n",
    "def graderfeedback(names, assignments , grades):\n",
    "    if len(names) == len(assignments) == len(grades):\n",
    "        for i in range(len(names)):\n",
    "            potential_grade = int(float(int(grades[i]))) \n",
    "            potential_grade += 2 * int(float(int(assignments[i])))\n",
    "            print(message.format(names[i], assignments[i], grades[i], potential_grade))\n",
    "\n",
    "graderfeedback(names, assignments , grades)"
   ]
  },
  {
   "cell_type": "markdown",
   "metadata": {
    "heading_collapsed": true
   },
   "source": [
    "# match_flower_name"
   ]
  },
  {
   "cell_type": "code",
   "execution_count": 3,
   "metadata": {
    "hidden": true
   },
   "outputs": [
    {
     "name": "stdout",
     "output_type": "stream",
     "text": [
      "Enter your First [space] Last name only: Emmanuel Darko\n",
      "Unique flower name with the first letter: English Bluebell\n"
     ]
    }
   ],
   "source": [
    "#For the following practice question you will need to write code in Python in the workspace below.\n",
    "#This will allow you to practice the concepts discussed in the Scripting lesson, such as reading and writing files. \n",
    "#You will see some older concepts too, but again, \n",
    "#we have them there to review and reinforce your understanding of those concepts.\n",
    "\n",
    "#Question: Create a function that opens the flowers.txt, \n",
    "#reads every line in it, and saves it as a dictionary. \n",
    "#The main (separate) function should take user input (user's first name and last name) and parse the user input to identify the first letter of the first name. \n",
    "#It should then use it to print the flower name with the same first letter (from dictionary created in the first function).\n",
    "\n",
    "#Sample Output:\n",
    "\n",
    "#>>> Enter your First [space] Last name only: Bill Newman\n",
    "#>>> Unique flower name with the first letter: Bellflower\n",
    "\n",
    "# Write your code here\n",
    "def reader(filename):\n",
    "    di = {}\n",
    "    with open('{}'.format(filename) , 'r') as f:\n",
    "        data = f.readlines()\n",
    "        for i in data:\n",
    "            di[i[0]] = i[3:-1]\n",
    "    return di\n",
    "\n",
    "# HINT: create a dictionary from flowers.txt\n",
    "\n",
    "\n",
    "# HINT: create a function\n",
    "def nameSeeker():\n",
    "    names = input('Enter your First [space] Last name only: ')\n",
    "    if isinstance(names , str):\n",
    "        letter = names[0]\n",
    "        for key,value in flowerdict.items():\n",
    "        \n",
    "            if letter in flowerdict.keys():    \n",
    "                return print('Unique flower name with the first letter: {}'.format(flowerdict[letter]))\n",
    "            \n",
    "            elif letter.islower():\n",
    "                return print(\"You're not using caps, first name should be in caps!!!\")\n",
    "            \n",
    "            elif type(int(float(names))) == int or float:\n",
    "                return print('No one should tell you your name doesnt contain anything other than letters!!')\n",
    "\n",
    "flowerdict = reader('flowers.txt')        \n",
    "nameSeeker()"
   ]
  },
  {
   "cell_type": "markdown",
   "metadata": {
    "heading_collapsed": true
   },
   "source": [
    "# password_generator"
   ]
  },
  {
   "cell_type": "code",
   "execution_count": 2,
   "metadata": {
    "hidden": true
   },
   "outputs": [
    {
     "name": "stdout",
     "output_type": "stream",
     "text": [
      "verysisteronce\n"
     ]
    }
   ],
   "source": [
    "#Write a function called generate_password that selects three random words from the list of words word_list and concatenates them into a single string.\n",
    "#Your function should not accept any arguments and should reference the global variable word_list to build the password.\n",
    "import random\n",
    "# Use an import statement at the top\n",
    "\n",
    "word_file = \"words.txt\"\n",
    "word_list = []\n",
    "\n",
    "#fill up the word_list\n",
    "with open(word_file,'r') as words:\n",
    "\tfor line in words:\n",
    "\t\t# remove white space and make everything lowercase\n",
    "\t\tword = line.strip().lower()\n",
    "\t\t# don't include words that are too long or too short\n",
    "\t\tif 3 < len(word) < 8:\n",
    "\t\t\tword_list.append(word)\n",
    "\n",
    "# Add your function generate_password here\n",
    "# It should return a string consisting of three random words \n",
    "# concatenated together without spaces\n",
    "def generate_password():\n",
    "    select = random.choices(word_list, k=3)\n",
    "    password = ''.join(select)\n",
    "    password = password.strip(' ')\n",
    "    return password\n",
    "\n",
    "# test your function\n",
    "print(generate_password())"
   ]
  },
  {
   "cell_type": "markdown",
   "metadata": {
    "heading_collapsed": true
   },
   "source": [
    "# user_input_numlist"
   ]
  },
  {
   "cell_type": "code",
   "execution_count": 1,
   "metadata": {
    "hidden": true
   },
   "outputs": [
    {
     "name": "stdout",
     "output_type": "stream",
     "text": [
      "Enter any 2-digit number: 7\n",
      "Enter any 2-digit number: 2\n",
      "Enter any 2-digit number: 7\n",
      "Enter any 2-digit number: 7\n",
      "Enter any 2-digit number: 7\n",
      "Enter any 2-digit number: 7\n",
      "Enter any 2-digit number: 7\n",
      "Enter any 2-digit number: 7\n",
      "Enter any 2-digit number: 7\n",
      "Enter any 2-digit number: 7\n",
      "user_list: ['7', '2', '7', '7', '7', '7', '7', '7', '7', '7']\n",
      "The sum of the even numbers in user_list is: 2.\n"
     ]
    }
   ],
   "source": [
    "#In the workspace at the bottom of the page, there is a piece of code in the user_input_numlist.py Python file.\n",
    "#The code prompts the user to enter 10 two-digit numbers. \n",
    "#It should then find and print the sum of all of the even numbers among those that were entered.\n",
    "\n",
    "#But there is a bug in the code! When I input a number, I get the following TypeError. \n",
    "#Use the programming environment provided below with a Terminal and code editor to debug the code.\n",
    "\n",
    "# initiate empty list to hold user input and sum value of zero\n",
    "user_list = []\n",
    "list_sum = 0\n",
    "\n",
    "# seek user input for ten numbers \n",
    "for i in range(10):\n",
    "    userInput = input(\"Enter any 2-digit number: \")\n",
    "    \n",
    "# check to see if number is even and if yes, add to list_sum\n",
    "# print incorrect value warning  when ValueError exception occurs\n",
    "    number = userInput\n",
    "    user_list.append(number)\n",
    "    try:\n",
    "        if number % 2 == 0:\n",
    "            list_sum += number\n",
    "    except ValueError:\n",
    "        print('incorrect value warning!!'.upper())\n",
    "    except TypeError:\n",
    "        if int(number) % 2 == 0:\n",
    "            list_sum += int(number)\n",
    "\n",
    "print(\"user_list: {}\".format(user_list))\n",
    "print(\"The sum of the even numbers in user_list is: {}.\".format(list_sum))"
   ]
  },
  {
   "cell_type": "code",
   "execution_count": null,
   "metadata": {
    "hidden": true
   },
   "outputs": [],
   "source": []
  }
 ],
 "metadata": {
  "kernelspec": {
   "display_name": "Python 3",
   "language": "python",
   "name": "python3"
  },
  "language_info": {
   "codemirror_mode": {
    "name": "ipython",
    "version": 3
   },
   "file_extension": ".py",
   "mimetype": "text/x-python",
   "name": "python",
   "nbconvert_exporter": "python",
   "pygments_lexer": "ipython3",
   "version": "3.7.5"
  }
 },
 "nbformat": 4,
 "nbformat_minor": 4
}
