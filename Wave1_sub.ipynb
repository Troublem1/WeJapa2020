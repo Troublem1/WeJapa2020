{
 "cells": [
  {
   "cell_type": "markdown",
   "metadata": {
    "heading_collapsed": true
   },
   "source": [
    "# LAB 1 of 1"
   ]
  },
  {
   "cell_type": "code",
   "execution_count": 6,
   "metadata": {
    "hidden": true
   },
   "outputs": [
    {
     "name": "stdout",
     "output_type": "stream",
     "text": [
      "39.666666666666664\n"
     ]
    }
   ],
   "source": [
    "'''Lab1of1.py'''\n",
    "# Write an expression that calculates the average of 23, 32 and 64\n",
    "# Place the expression in this print statement\n",
    "def meanfunc(a,b,c):\n",
    "    summer = [a,b,c]\n",
    "    return sum(summer)/len(summer)\n",
    "\n",
    "print(meanfunc(23,32,64))"
   ]
  },
  {
   "cell_type": "markdown",
   "metadata": {
    "heading_collapsed": true
   },
   "source": [
    "# LAB 1 of 2"
   ]
  },
  {
   "cell_type": "code",
   "execution_count": 14,
   "metadata": {
    "hidden": true
   },
   "outputs": [],
   "source": [
    "def Areafunc(L,B):\n",
    "    area = L*B\n",
    "    return area"
   ]
  },
  {
   "cell_type": "code",
   "execution_count": 25,
   "metadata": {
    "hidden": true,
    "scrolled": true
   },
   "outputs": [
    {
     "name": "stdout",
     "output_type": "stream",
     "text": [
      "98 tiles are needed\n"
     ]
    }
   ],
   "source": [
    "first_partof_floor = Areafunc(7,9)\n",
    "sec_partof_floor = Areafunc(7,5)\n",
    "\n",
    "#1. How many tiles are needed?\n",
    "needed_tiles = first_partof_floor+sec_partof_floor \n",
    "print('{} tiles are needed'.format(needed_tiles))"
   ]
  },
  {
   "cell_type": "code",
   "execution_count": 31,
   "metadata": {
    "hidden": true
   },
   "outputs": [
    {
     "name": "stdout",
     "output_type": "stream",
     "text": [
      "Out of 102 tiles, only 4 will be left\n"
     ]
    }
   ],
   "source": [
    "#2. You buy 17 packages of tiles containing 6 tiles each. How many tiles will be left over?\n",
    "total_tiles = 17*6\n",
    "remaining_tiles = total_tiles - needed_tiles\n",
    "print('Out of {} tiles, only {} will be left'.format(total_tiles,remaining_tiles))"
   ]
  },
  {
   "cell_type": "markdown",
   "metadata": {
    "heading_collapsed": true
   },
   "source": [
    "# LAB 1 of 2.2"
   ]
  },
  {
   "cell_type": "code",
   "execution_count": 76,
   "metadata": {
    "hidden": true
   },
   "outputs": [],
   "source": [
    "def population_density(large, exp):\n",
    "    return large/exp"
   ]
  },
  {
   "cell_type": "code",
   "execution_count": 77,
   "metadata": {
    "hidden": true
   },
   "outputs": [
    {
     "name": "stdout",
     "output_type": "stream",
     "text": [
      "expected result: 10, actual result: 10.0\n"
     ]
    }
   ],
   "source": [
    "test1 = population_density(10, 1)\n",
    "expected_result1 = 10\n",
    "print(\"expected result: {}, actual result: {}\".format(expected_result1, test1))"
   ]
  },
  {
   "cell_type": "code",
   "execution_count": 85,
   "metadata": {
    "hidden": true,
    "scrolled": true
   },
   "outputs": [
    {
     "name": "stdout",
     "output_type": "stream",
     "text": [
      "expected result: 7123.6902801, actual result: 7123.6902801\n"
     ]
    }
   ],
   "source": [
    "test2 = population_density(864816, 121.4)\n",
    "expected_result2 = 7123.6902801\n",
    "print(\"expected result: {}, actual result: {:1.7f}\".format(expected_result2, test2))"
   ]
  },
  {
   "cell_type": "markdown",
   "metadata": {
    "heading_collapsed": true
   },
   "source": [
    "# LAB 1 of 3"
   ]
  },
  {
   "cell_type": "code",
   "execution_count": 115,
   "metadata": {
    "hidden": true,
    "scrolled": true
   },
   "outputs": [
    {
     "name": "stdout",
     "output_type": "stream",
     "text": [
      "447877500.0 is the new reservoir volume\n"
     ]
    }
   ],
   "source": [
    "#Note that this code uses scientific notation to define large numbers. 4.445e8 is equal to 4.445 * 10 ** 8 which is equal to 444500000.0.\n",
    "\n",
    "# The current volume of a water reservoir (in cubic metres)\n",
    "reservoir_volume = 4.445e8\n",
    "\n",
    "# The amount of rainfall from a storm (in cubic metres)\n",
    "rainfall = 5e6\n",
    "\n",
    "# decrease the rainfall variable by 10% to account for runoff\n",
    "rainfall = rainfall -(rainfall*0.1)\n",
    "\n",
    "# add the rainfall variable to the reservoir_volume variable\n",
    "reservoir_volume += rainfall\n",
    "\n",
    "# increase reservoir_volume by 5% to account for stormwater that flows into the reservoir in the days following the storm\n",
    "reservoir_volume +=  reservoir_volume * 0.05\n",
    "\n",
    "# decrease reservoir_volume by 5% to account for evaporation\n",
    "reservoir_volume -= reservoir_volume * 0.05\n",
    "\n",
    "# subtract 2.5e5 cubic metres from reservoir_volume to account for water that's piped to arid regions.\n",
    "arid_regions = reservoir_volume -  250000.0             #2.5e5 = 2.5*10**5\n",
    "\n",
    "# print the new value of the reservoir_volume variable\n",
    "print('{} is the new reservoir volume'.format(reservoir_volume))"
   ]
  },
  {
   "cell_type": "markdown",
   "metadata": {
    "heading_collapsed": true
   },
   "source": [
    "# LAB 1 of 4"
   ]
  },
  {
   "cell_type": "code",
   "execution_count": 120,
   "metadata": {
    "hidden": true
   },
   "outputs": [
    {
     "name": "stdout",
     "output_type": "stream",
     "text": [
      "False\n"
     ]
    }
   ],
   "source": [
    "sf_population, sf_area = 864816, 231.89\n",
    "rio_population, rio_area = 6453682, 486.5\n",
    "\n",
    "san_francisco_pop_density = sf_population/sf_area\n",
    "rio_de_janeiro_pop_density = rio_population/rio_area\n",
    "\n",
    "# Write code that prints True if San Francisco is denser than Rio, and False otherwise\n",
    "if san_francisco_pop_density > rio_de_janeiro_pop_density:\n",
    "    print(True)\n",
    "else:\n",
    "    print(False)"
   ]
  },
  {
   "cell_type": "markdown",
   "metadata": {
    "heading_collapsed": true
   },
   "source": [
    "# LAB 1 of 5"
   ]
  },
  {
   "cell_type": "code",
   "execution_count": 32,
   "metadata": {
    "hidden": true
   },
   "outputs": [],
   "source": [
    "#The line of code in the following quiz will cause a SyntaxError, thanks to the misuse of quotation marks. First run it with  to view the error message. Then resolve the problem so that the quote (from Henry Ford) is correctly assigned to the variable ford_quote.\n",
    "\n",
    "\n",
    "# TODO: Fix this string!\n",
    "\n",
    "#ford_quote = 'Whether you think you can, or you think you can't--you're right.'   #produces SyntaxError: invalid syntax\n",
    "\n",
    "ford_quote = \"Whether you think you can, or you think you can't--you're right.\"    #resolved  with \" \""
   ]
  },
  {
   "cell_type": "markdown",
   "metadata": {
    "heading_collapsed": true
   },
   "source": [
    "# LAB 1 of 6"
   ]
  },
  {
   "cell_type": "code",
   "execution_count": 125,
   "metadata": {
    "hidden": true
   },
   "outputs": [
    {
     "name": "stdout",
     "output_type": "stream",
     "text": [
      "Kinari accessed http://petshop.com/pets/mammals/cats at 04:50\n"
     ]
    }
   ],
   "source": [
    "username = \"Kinari\"\n",
    "timestamp = \"04:50\"\n",
    "url = \"http://petshop.com/pets/mammals/cats\"\n",
    "\n",
    "# TODO: print a log message using the variables above.\n",
    "# The message should have the same format as this one:\n",
    "# \"Yogesh accessed the site http://petshop.com/pets/reptiles/pythons at 16:20.\"\n",
    "\n",
    "print(\"{} accessed {} at {}\".format(username, url, timestamp))"
   ]
  },
  {
   "cell_type": "markdown",
   "metadata": {
    "heading_collapsed": true
   },
   "source": [
    "# LAB 1 of 7"
   ]
  },
  {
   "cell_type": "code",
   "execution_count": 135,
   "metadata": {
    "hidden": true
   },
   "outputs": [
    {
     "name": "stdout",
     "output_type": "stream",
     "text": [
      "True\n"
     ]
    }
   ],
   "source": [
    "#Use string concatenation and the len() function to find the length of a certain movie star's actual full name. Store that length in the name_length variable. Don't forget that there are spaces in between the different parts of a name!\n",
    "\n",
    "given_name = \"William\"\n",
    "middle_names = \"Bradley\"\n",
    "family_name = \"Pitt\"\n",
    "\n",
    "name_length = len('{} {} {}'.format(given_name,middle_names,family_name))\n",
    "\n",
    "\n",
    "#todo: calculate how long this name is\n",
    "# Now we check to make sure that the name fits within the driving license character limit\n",
    "# Nothing you need to do here\n",
    "driving_license_character_limit = 28\n",
    "print(name_length <= driving_license_character_limit)"
   ]
  },
  {
   "cell_type": "markdown",
   "metadata": {
    "heading_collapsed": true
   },
   "source": [
    "# LAB 1 of 8"
   ]
  },
  {
   "cell_type": "code",
   "execution_count": 145,
   "metadata": {
    "hidden": true
   },
   "outputs": [
    {
     "name": "stdout",
     "output_type": "stream",
     "text": [
      "This week's total sales: 529\n"
     ]
    }
   ],
   "source": [
    "#In this quiz, you’ll need to change the types of the input and output data in order to get the result you want. Calculate and print the total sales for the week from the data provided. Print out a string of the form \"This week's total sales: xxx\", where xxx will be the actual total of all the numbers. You’ll need to change the type of the input data in order to calculate that total.\n",
    "\n",
    "mon_sales = \"121\"\n",
    "tues_sales = \"105\"\n",
    "wed_sales = \"110\"\n",
    "thurs_sales = \"98\"\n",
    "fri_sales = \"95\"\n",
    "\n",
    "#TODO: Print a string with this format: This week's total sales: xxx\n",
    "# You will probably need to write some lines of code before the print statement.\n",
    "def salesFunc(mon, tues, wed, thurs, fri):\n",
    "    weekly_sales = [mon, tues, wed, thurs, fri]\n",
    "    total_sales = 0\n",
    "    for i in weekly_sales:\n",
    "        sale = int(i)\n",
    "        total_sales += sale\n",
    "    print(\"This week's total sales: {}\".format(total_sales))  \n",
    "    \n",
    "salesFunc(mon_sales, tues_sales, wed_sales, thurs_sales, fri_sales)   #121+105+110+98+95 = 529"
   ]
  },
  {
   "cell_type": "markdown",
   "metadata": {
    "heading_collapsed": true
   },
   "source": [
    "# LAB 1 of 9"
   ]
  },
  {
   "cell_type": "code",
   "execution_count": 144,
   "metadata": {
    "hidden": true
   },
   "outputs": [],
   "source": [
    "# Browse the complete list of string methods at:\n",
    "# https://docs.python.org/3/library/stdtypes.html#string-methods \n",
    "#and try them out here. Endeavor to copy the link without the first # comment sign beginning it.\n",
    "Test_Run = \" my Name is Emmanuel and i'm 30 years of age. \""
   ]
  },
  {
   "cell_type": "code",
   "execution_count": 166,
   "metadata": {
    "hidden": true
   },
   "outputs": [
    {
     "name": "stdout",
     "output_type": "stream",
     "text": [
      "False\n",
      "False\n",
      "False\n",
      "False\n",
      "False\n",
      "False\n",
      "False\n",
      "True\n",
      "False\n",
      "False\n",
      "False\n",
      "True\n",
      "False\n"
     ]
    }
   ],
   "source": [
    "#string methods that return booleans\n",
    "\n",
    "print(Test_Run.isalnum())                   #Returns True if all characters in the string are alphanumeric\n",
    "\n",
    "print(Test_Run.isalpha())              #Returns True if all characters in the string are in the alphabet\n",
    "\n",
    "print(Test_Run.isdecimal())                #Returns True if all characters in the string are decimals\n",
    "\n",
    "print(Test_Run.isdigit())              #Returns True if all characters in the string are digits\n",
    "\n",
    "print(Test_Run.isidentifier())                   #Returns True if the string is an identifier\n",
    "\n",
    "print(Test_Run.islower())              #Returns True if all characters in the string are lower case\n",
    "\n",
    "print(Test_Run.isnumeric())                #Returns True if all characters in the string are numeric\n",
    "\n",
    "print(Test_Run.isprintable())                  #Returns True if all characters in the string are printable\n",
    "\n",
    "print(Test_Run.isspace())              #Returns True if all characters in the string are whitespaces\n",
    "\n",
    "print(Test_Run.istitle())              #Returns True if the string follows the rules of a title\n",
    "\n",
    "print(Test_Run.isupper())              #Returns True if all characters in the string are upper case\n",
    "\n",
    "print(Test_Run.startswith(' '))                   #Returns true if the string starts with the specified value\n",
    "\n",
    "print(Test_Run.endswith('.'))                   #Returns true if the string ends with the specified value"
   ]
  },
  {
   "cell_type": "code",
   "execution_count": 186,
   "metadata": {
    "hidden": true
   },
   "outputs": [
    {
     "name": "stdout",
     "output_type": "stream",
     "text": [
      " my Name is Emmanuel and i'm 30 years of age. \n",
      " my Name is Emmanuel and i'm 30 years of age. \n",
      " my Name is Emmanuel and i'm 30 years of age. \n",
      " my Name is Emmanuel and i'm 30 years of age.\n",
      " MY nAME IS eMMANUEL AND I'M 30 YEARS OF AGE. \n",
      " My Name Is Emmanuel And I'M 30 Years Of Age. \n",
      " my name is emmanuel and i'm 30 years of age. \n",
      " my name is emmanuel and i'm 30 years of age. \n",
      " my Name is Emmanuel and i'm 30 years of age. \n",
      " my Name is Emmanuel and i'm 30 years of age. \n",
      " my name is emmanuel and i'm 30 years of age. \n",
      "4.125512e+06\n",
      "my Name is Emmanuel and i'm 30 years of age. \n",
      " MY NAME IS EMMANUEL AND I'M 30 YEARS OF AGE. \n",
      "my Name is Emmanuel and i'm 30 years of age.\n",
      " my Name is Emmanuel and i'm 30 years of age. \n",
      " my Name is Emmanuel and i'm not yet married. \n",
      "Ohayoo, my Name is Emmanuel and i'm 30 years of age. Ogenkidesuka?\n"
     ]
    }
   ],
   "source": [
    "#string methods that return changes to the string's structure\n",
    "\n",
    "print(Test_Run.expandtabs(0))                   #Sets the tab size of the string\n",
    "\n",
    "print(Test_Run.format_map(0))                   #Formats specified values in a string\n",
    "\n",
    "print(Test_Run.rjust(0))                   #Returns a right justified version of the string\n",
    "\n",
    "print(Test_Run.rstrip())                   #Returns a right trim version of the string\n",
    "\n",
    "print(Test_Run.swapcase())                   #Swaps cases, lower case becomes upper case and vice versa\n",
    "\n",
    "print(Test_Run.title())                   #Converts the first character of each word to upper case\n",
    "\n",
    "print(Test_Run.capitalize())                   #Converts the first character to upper case\n",
    "\n",
    "print(Test_Run.casefold())                   #Converts string into lower case\n",
    "\n",
    "print(Test_Run.center(10))                   #Returns a centered string\n",
    "\n",
    "print(Test_Run.ljust(0))                  #Returns a left justified version of the string\n",
    "\n",
    "print(Test_Run.lower())                  #Converts a string into lower case\n",
    "\n",
    "num = 4125512\n",
    "print(format(num,'e'))              #Formats specified values in a string\n",
    "\n",
    "print(Test_Run.lstrip())                #Returns a left trim version of the string\n",
    "\n",
    "print(Test_Run.upper())                   #Converts a string into upper case\n",
    "\n",
    "print(Test_Run.strip())                   #Returns a trimmed version of the string\n",
    "\n",
    "print(Test_Run.zfill(0))                   #Fills the string with a specified number of 0 values at the beginning\n",
    "\n",
    "print(\n",
    "    Test_Run.replace(\n",
    "\"i'm 30 years of age\",\"i'm not yet married\"))  #Returns a string where a specified value is replaced with a specified value\n",
    "\n",
    "print(Test_Run.join(['Ohayoo,', 'Ogenkidesuka?']))          #Joins the elements of an iterable to the end of the string"
   ]
  },
  {
   "cell_type": "code",
   "execution_count": 187,
   "metadata": {
    "hidden": true
   },
   "outputs": [
    {
     "name": "stdout",
     "output_type": "stream",
     "text": [
      "5\n",
      "21\n",
      "21\n",
      "41\n",
      "41\n"
     ]
    }
   ],
   "source": [
    "#string methods that return values of either index , last position or number of occurances \n",
    "\n",
    "print(Test_Run.count('m'))                   #Returns the number of times a specified value occurs in a string\n",
    "\n",
    "print(\n",
    "    Test_Run.find(\n",
    "        'and'))                   #Searches the string for a specified value and returns the position of where it was found\n",
    "\n",
    "print(\n",
    "    Test_Run.index(\n",
    "        'and'))               #Searches the string for a specified value and returns the position of where it was found\n",
    "\n",
    "print(\n",
    "    Test_Run.rfind(\n",
    "        'age'))                   #Searches the string for a specified value and returns the last position of where it was found\n",
    "\n",
    "print(\n",
    "    Test_Run.rindex(\n",
    "        'age'))                  #Searches the string for a specified value and returns the last position of where it was found"
   ]
  },
  {
   "cell_type": "code",
   "execution_count": 183,
   "metadata": {
    "hidden": true
   },
   "outputs": [
    {
     "name": "stdout",
     "output_type": "stream",
     "text": [
      "b\" my Name is Emmanuel and i'm 30 years of age. \"\n",
      "emyeNameeiseEmmanueleandei me30eyearseofeage.e\n",
      "{78: 4, 69: 4}\n"
     ]
    }
   ],
   "source": [
    "#string methods that return encode and return translation tables\n",
    "\n",
    "print(Test_Run.encode())                   #Returns an encoded version of the string\n",
    "\n",
    "print(Test_Run.translate(\"my Name is Emmanuel and i'm 30 years of age.\"))                   #Returns a translated string\n",
    "\n",
    "print(Test_Run.maketrans(dict(zip(['N','E'] ,[4,4]))))        #Returns a translation table to be used in translations"
   ]
  },
  {
   "cell_type": "code",
   "execution_count": 168,
   "metadata": {
    "hidden": true,
    "scrolled": true
   },
   "outputs": [
    {
     "name": "stdout",
     "output_type": "stream",
     "text": [
      "(' my Name is ', 'Emmanuel', \" and i'm 30 years of age. \")\n",
      "(' my Name is ', 'Emmanuel', \" and i'm 30 years of age. \")\n",
      "['my', 'Name', 'is', 'Emmanuel', 'and', \"i'm\", '30', 'years', 'of', 'age.']\n",
      "['my', 'Name', 'is', 'Emmanuel', 'and', \"i'm\", '30', 'years', 'of', 'age.']\n",
      "[\" my Name is Emmanuel and i'm 30 years of age. \"]\n"
     ]
    }
   ],
   "source": [
    "#string methods that return stings in lists and tuples\n",
    "print(Test_Run.partition('Emmanuel'))                 #Returns a tuple where the string is parted into three parts\n",
    "\n",
    "print(Test_Run.rpartition('Emmanuel'))                   #Returns a tuple where the string is parted into three parts\n",
    "\n",
    "print(Test_Run.rsplit())                   #Splits the string at the specified separator, and returns a list\n",
    "\n",
    "print(Test_Run.split())                   #Splits the string at the specified separator, and returns a list\n",
    "\n",
    "print(Test_Run.splitlines())                   #Splits the string at line breaks and returns a list"
   ]
  },
  {
   "cell_type": "markdown",
   "metadata": {
    "heading_collapsed": true
   },
   "source": [
    "# LAB 2 of 1"
   ]
  },
  {
   "cell_type": "code",
   "execution_count": 30,
   "metadata": {
    "hidden": true
   },
   "outputs": [
    {
     "name": "stdout",
     "output_type": "stream",
     "text": [
      "2 is an example of an even number while 3 is an example of an odd number.\n"
     ]
    }
   ],
   "source": [
    "# Write two lines of code below, each assigning a value to a variable\n",
    "num_1 = 2\n",
    "num_2 = 3\n",
    "\n",
    "\n",
    "# Now write a print statement using .format() to print out a sentence and the \n",
    "#   values of both of the variables\n",
    "print('{} is an example of an even number while {} is an example of an odd number.'.format(num_1, num_2))"
   ]
  },
  {
   "cell_type": "markdown",
   "metadata": {
    "heading_collapsed": true
   },
   "source": [
    "# LAB 2 of 2"
   ]
  },
  {
   "cell_type": "code",
   "execution_count": 188,
   "metadata": {
    "hidden": true
   },
   "outputs": [
    {
     "name": "stdout",
     "output_type": "stream",
     "text": [
      "length of the string variable verse: 362\n",
      "index of the first occurrence of the word 'and' in verse: 65\n",
      "index of the last occurrence of the word 'you' in verse:186\n",
      "count of occurrences of the word 'you' in the verse: 8\n"
     ]
    }
   ],
   "source": [
    "#1. What is the length of the string variable verse?\n",
    "#2. What is the index of the first occurrence of the word 'and' in verse?\n",
    "#3. What is the index of the last occurrence of the word 'you' in verse?\n",
    "#4. What is the count of occurrences of the word 'you' in the verse?\n",
    "\n",
    "\n",
    "verse = \"If you can keep your head when all about you\\n  Are losing theirs and blaming it on you,\\nIf you can trust yourself when all men doubt you,\\n  But make allowance for their doubting too;\\nIf you can wait and not be tired by waiting,\\n  Or being lied about, don’t deal in lies,\\nOr being hated, don’t give way to hating,\\n  And yet don’t look too good, nor talk too wise:\"\n",
    "\n",
    "# Use the appropriate functions and methods to answer the questions above\n",
    "# Bonus: practice using .format() to output your answers in descriptive messages!\n",
    "print('length of the string variable verse: {}'.format(len(verse)))\n",
    "\n",
    "print(\"index of the first occurrence of the word 'and' in verse: {}\".format(verse.index('and')))\n",
    "\n",
    "print(\"index of the last occurrence of the word 'you' in verse:{}\".format(verse.rfind('you')))\n",
    "\n",
    "print(\"count of occurrences of the word 'you' in the verse: {}\".format(verse.count('you')))"
   ]
  }
 ],
 "metadata": {
  "kernelspec": {
   "display_name": "Python 3",
   "language": "python",
   "name": "python3"
  },
  "language_info": {
   "codemirror_mode": {
    "name": "ipython",
    "version": 3
   },
   "file_extension": ".py",
   "mimetype": "text/x-python",
   "name": "python",
   "nbconvert_exporter": "python",
   "pygments_lexer": "ipython3",
   "version": "3.7.5"
  }
 },
 "nbformat": 4,
 "nbformat_minor": 4
}
