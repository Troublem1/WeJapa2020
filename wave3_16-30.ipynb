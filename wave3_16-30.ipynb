{
 "cells": [
  {
   "cell_type": "markdown",
   "metadata": {
    "heading_collapsed": true
   },
   "source": [
    "# multiples_3.py"
   ]
  },
  {
   "cell_type": "code",
   "execution_count": 6,
   "metadata": {
    "hidden": true
   },
   "outputs": [
    {
     "name": "stdout",
     "output_type": "stream",
     "text": [
      "[3, 6, 9, 12, 15, 18, 21, 24, 27, 30, 33, 36, 39, 42, 45, 48, 51, 54, 57, 60]\n"
     ]
    }
   ],
   "source": [
    "#Multiples of Three\n",
    "#Use a list comprehension to create a list multiples_3 containing the first 20 multiples of 3.\n",
    "\n",
    "multiples_3 = [i for i in range(1 , 61) if i%3==0]\n",
    "print(multiples_3)"
   ]
  },
  {
   "cell_type": "markdown",
   "metadata": {
    "heading_collapsed": true
   },
   "source": [
    "# nearestsquare.py"
   ]
  },
  {
   "cell_type": "code",
   "execution_count": 106,
   "metadata": {
    "hidden": true,
    "scrolled": true
   },
   "outputs": [
    {
     "name": "stdout",
     "output_type": "stream",
     "text": [
      "nearest_square: 36\n"
     ]
    }
   ],
   "source": [
    "#Nearest Square\n",
    "#Write a while loop that finds the largest square number less than an integer limit \n",
    "#and stores it in a variable nearest_square.\n",
    "#A square number is the product of an integer multiplied by itself, \n",
    "#for example 36 is a square number because it equals 6*6.\n",
    "\n",
    "#For example, if limit is 40, your code should set the nearest_square to 36.\n",
    "limit = 40\n",
    "\n",
    "def squarelimChecker(lim):\n",
    "    number = 0\n",
    "    nearest_square = 0\n",
    "    \n",
    "    while nearest_square < limit:\n",
    "        number += 6\n",
    "        prev_num = number * number\n",
    "        next_num = (number+1) * (number+1)\n",
    "\n",
    "        if type(prev_num) == int:\n",
    "            nearest_square = prev_num\n",
    "            if nearest_square < limit:\n",
    "                return nearest_square\n",
    "        \n",
    "        elif type(next_num) == int:\n",
    "            nearest_square = next_num\n",
    "            if nearest_square < limit:\n",
    "                return nearest_square\n",
    "print('nearest_square: {}'.format(squarelimChecker(limit)))"
   ]
  },
  {
   "cell_type": "markdown",
   "metadata": {
    "heading_collapsed": true
   },
   "source": [
    "# test_file1.py"
   ]
  },
  {
   "cell_type": "code",
   "execution_count": 15,
   "metadata": {
    "hidden": true
   },
   "outputs": [
    {
     "name": "stdout",
     "output_type": "stream",
     "text": [
      "What state are you from? CA\n",
      "purchase amount? 10\n",
      "Since you're from CA, your total cost is 10.75.\n"
     ]
    }
   ],
   "source": [
    "'''version for test_file1.py that saves list of states and requires input of current state and purchase amount by each unique\n",
    " customer. Can be used in a loop for range of customers and their purchase amount'''\n",
    "\n",
    "states = ['CA', 'MN', 'NY']\n",
    "\n",
    "state = str(input('What state are you from? '))\n",
    "purchase_amount =  int(input('purchase amount? '))\n",
    "\n",
    "for i in states:\n",
    "    if  i == state:\n",
    "        tax_amount = .075\n",
    "        total_cost = purchase_amount*(1+tax_amount)\n",
    "        result = \"Since you're from {}, your total cost is {}.\".format(i, total_cost)\n",
    "\n",
    "    elif i == state:\n",
    "        tax_amount = .095\n",
    "        total_cost = purchase_amount*(1+tax_amount)\n",
    "        result = \"Since you're from {}, your total cost is {}.\".format(i, total_cost)\n",
    "\n",
    "    elif i == state:\n",
    "        tax_amount = .089\n",
    "        total_cost = purchase_amount*(1+tax_amount)\n",
    "        result = \"Since you're from {}, your total cost is {}.\".format(i, total_cost)\n",
    "    \n",
    "print(result)"
   ]
  },
  {
   "cell_type": "code",
   "execution_count": 14,
   "metadata": {
    "hidden": true
   },
   "outputs": [
    {
     "name": "stdout",
     "output_type": "stream",
     "text": [
      "Since you're from NY, your total cost is 108.89999999999999.\n"
     ]
    }
   ],
   "source": [
    "# '''\n",
    "# Depending on where an individual is from we need to tax them \n",
    "# appropriately.  The states of CA, MN, and \n",
    "# NY have taxes of 7.5%, 9.5%, and 8.9% respectively.\n",
    "# Use this information to take the amount of a purchase and \n",
    "# the corresponding state to assure that they are taxed by the right\n",
    "# amount.\n",
    "# '''\n",
    "'''test_file1_ orignal'''\n",
    "\n",
    "state = ['CA', 'MN', 'NY']\n",
    "purchase_amount = 100\n",
    "\n",
    "for i in state:\n",
    "    if  i == 'CA':\n",
    "        tax_amount = .075\n",
    "        total_cost = purchase_amount*(1+tax_amount)\n",
    "        result = \"Since you're from {}, your total cost is {}.\".format(i, total_cost)\n",
    "\n",
    "    elif i == 'MN':\n",
    "        tax_amount = .095\n",
    "        total_cost = purchase_amount*(1+tax_amount)\n",
    "        result = \"Since you're from {}, your total cost is {}.\".format(i, total_cost)\n",
    "\n",
    "    elif i == 'NY':\n",
    "        tax_amount = .089\n",
    "        total_cost = purchase_amount*(1+tax_amount)\n",
    "        result = \"Since you're from {}, your total cost is {}.\".format(i, total_cost)\n",
    "\n",
    "print(result)"
   ]
  },
  {
   "cell_type": "markdown",
   "metadata": {
    "heading_collapsed": true
   },
   "source": [
    "# test_file2.py"
   ]
  },
  {
   "cell_type": "code",
   "execution_count": 116,
   "metadata": {
    "hidden": true
   },
   "outputs": [
    {
     "name": "stdout",
     "output_type": "stream",
     "text": [
      "What is your guess for this number: 10\n",
      "Nice!  Your guess matched the answer!\n"
     ]
    }
   ],
   "source": [
    "# '''\n",
    "# You decide you want to play a game where you are hiding \n",
    "# a number from someone.  Store this number in a variable \n",
    "# called 'answer'.  Another user provides a number called\n",
    "# 'guess'.  By comparing guess to answer, you inform the user\n",
    "# if their guess is too high or too low.\n",
    "\n",
    "# Fill in the conditionals below to inform the user about how\n",
    "# their guess compares to the answer.\n",
    "# '''\n",
    "answer = 10\n",
    "\n",
    "guess = int(input(\"What is your guess for this number: \" ))\n",
    "\n",
    "if guess < answer:\n",
    "    result = \"Oops!  Your guess was too low.\"\n",
    "elif guess > answer:\n",
    "    result = \"Oops!  Your guess was too high.\"\n",
    "elif guess ==  answer:\n",
    "    result = \"Nice!  Your guess matched the answer!\"\n",
    "\n",
    "print(result)"
   ]
  },
  {
   "cell_type": "markdown",
   "metadata": {
    "heading_collapsed": true
   },
   "source": [
    "# ticker.py"
   ]
  },
  {
   "cell_type": "code",
   "execution_count": 72,
   "metadata": {
    "hidden": true
   },
   "outputs": [
    {
     "name": "stdout",
     "output_type": "stream",
     "text": [
      "working and baseline code\n"
     ]
    }
   ],
   "source": [
    "'''\n",
    "baseline code:\n",
    "b = []\n",
    "for i in headlines:\n",
    "    b.append(i.split())\n",
    "    \n",
    "c = []\n",
    "for i in b:\n",
    "    for v in i:\n",
    "        news_ticker += v\n",
    "        news_ticker += ' '\n",
    "\n",
    "\n",
    "working code\n",
    "b = []\n",
    "c = []\n",
    "for i in headlines:\n",
    "    b.append(i.split())\n",
    "for i in b:\n",
    "    for v in i:\n",
    "        news_ticker += v\n",
    "        news_ticker += ' '\n",
    "            \n",
    "if len(news_ticker[:140]) == 140:\n",
    "    print(news_ticker)\n",
    "    print(len(news_ticker))\n",
    "'''\n",
    "print('working and baseline code')"
   ]
  },
  {
   "cell_type": "code",
   "execution_count": 71,
   "metadata": {
    "hidden": true
   },
   "outputs": [
    {
     "name": "stdout",
     "output_type": "stream",
     "text": [
      "Local Bear Eaten by Man Legislature Announces New Laws Peasant Discovers Violence Inherent in System Cat Rescues Fireman Stuck in Tree Brave\n"
     ]
    }
   ],
   "source": [
    "#Break the String\n",
    "#Write a loop with a break statement to create a string, \n",
    "#news_ticker, that is exactly 140 characters long. \n",
    "\n",
    "#You should create the news ticker by adding headlines from the headlines list,\n",
    "#inserting a space in between each headline.\n",
    "\n",
    "#If necessary, truncate the last headline in the middle\n",
    "#so that news_ticker is exactly 140 characters long.\n",
    "\n",
    "#Remember that break works in both for and while loops.\n",
    "#Use whichever loop seems most appropriate. \n",
    "#Consider adding print statements to your code to help you resolve bugs.\n",
    "\n",
    "# HINT: modify the headlines list to verify your loop works with different inputs\n",
    "\n",
    "headlines = [\"Local Bear Eaten by Man\",\n",
    "             \"Legislature Announces New Laws\",\n",
    "             \"Peasant Discovers Violence Inherent in System\",\n",
    "             \"Cat Rescues Fireman Stuck in Tree\",\n",
    "             \"Brave Knight Runs Away\",\n",
    "             \"Papperbok Review: Totally Triffic\"]\n",
    "\n",
    "\n",
    "# write your loop here\n",
    "#while len(news_ticker) < 140:\n",
    "def tickCheck(nest):\n",
    "    news_ticker = \"\"\n",
    "\n",
    "    b = []\n",
    "    c = []\n",
    "    for i in nest:\n",
    "        b.append(i.split())\n",
    "    for i in b:\n",
    "        for v in i:\n",
    "            news_ticker += v\n",
    "            news_ticker += ' '\n",
    "    \n",
    "    news_ticker = news_ticker[:140]\n",
    "    return news_ticker\n",
    "\n",
    "ticker = tickCheck(headlines)\n",
    "print(ticker)"
   ]
  },
  {
   "cell_type": "markdown",
   "metadata": {
    "heading_collapsed": true
   },
   "source": [
    "# transpose.py"
   ]
  },
  {
   "cell_type": "code",
   "execution_count": 120,
   "metadata": {
    "hidden": true
   },
   "outputs": [],
   "source": [
    "import numpy as np  # cant use because we werent explicitly told to"
   ]
  },
  {
   "cell_type": "code",
   "execution_count": 119,
   "metadata": {
    "hidden": true
   },
   "outputs": [
    {
     "name": "stdout",
     "output_type": "stream",
     "text": [
      "[[0, 3, 6, 9], [1, 4, 7, 10], [2, 5, 8, 11]]\n"
     ]
    }
   ],
   "source": [
    "#Transpose with Zip\n",
    "#Use zip to transpose data from a 4-by-3 matrix to a 3-by-4 matrix. There's actually a cool trick for this!.\n",
    "\n",
    "data = ((0, 1, 2), (3, 4, 5), (6, 7, 8), (9, 10, 11))\n",
    "\n",
    "data_zip = zip(*data)\n",
    "data_transpose = [list(row) for row in data_zip] \n",
    "\n",
    "print(data_transpose)"
   ]
  },
  {
   "cell_type": "markdown",
   "metadata": {
    "heading_collapsed": true
   },
   "source": [
    "# unzip.py"
   ]
  },
  {
   "cell_type": "code",
   "execution_count": 41,
   "metadata": {
    "hidden": true
   },
   "outputs": [
    {
     "name": "stdout",
     "output_type": "stream",
     "text": [
      "('Barney', 'Robin', 'Ted', 'Lily', 'Marshall')\n",
      "(72, 68, 72, 66, 76)\n"
     ]
    }
   ],
   "source": [
    "#Unzip Tuples\n",
    "#Unzip the cast tuple into two names and heights tuples.\n",
    "\n",
    "cast = ((\"Barney\", 72), (\"Robin\", 68), (\"Ted\", 72), (\"Lily\", 66), (\"Marshall\", 76))\n",
    "\n",
    "# define names and heights here\n",
    "names = []\n",
    "heights = []\n",
    "for i in cast:\n",
    "    names.append(i[0])\n",
    "    heights.append(i[1])\n",
    "    \n",
    "names = tuple(names)\n",
    "heights=tuple(heights)\n",
    "\n",
    "print(names)\n",
    "print(heights)"
   ]
  },
  {
   "cell_type": "code",
   "execution_count": 40,
   "metadata": {
    "hidden": true
   },
   "outputs": [
    {
     "name": "stdout",
     "output_type": "stream",
     "text": [
      "['__add__', '__class__', '__contains__', '__delattr__', '__dir__', '__doc__', '__eq__', '__format__', '__ge__', '__getattribute__', '__getitem__', '__getnewargs__', '__gt__', '__hash__', '__init__', '__init_subclass__', '__iter__', '__le__', '__len__', '__lt__', '__mul__', '__ne__', '__new__', '__reduce__', '__reduce_ex__', '__repr__', '__rmul__', '__setattr__', '__sizeof__', '__str__', '__subclasshook__', 'count', 'index']\n"
     ]
    }
   ],
   "source": [
    "print(dir(()))"
   ]
  },
  {
   "cell_type": "code",
   "execution_count": null,
   "metadata": {
    "hidden": true
   },
   "outputs": [],
   "source": []
  },
  {
   "cell_type": "markdown",
   "metadata": {
    "heading_collapsed": true
   },
   "source": [
    "# usernames.py"
   ]
  },
  {
   "cell_type": "code",
   "execution_count": 27,
   "metadata": {
    "hidden": true
   },
   "outputs": [
    {
     "name": "stdout",
     "output_type": "stream",
     "text": [
      "['joey_tribbiani', 'monica_geller', 'chandler_bing', 'phoebe_buffay']\n"
     ]
    }
   ],
   "source": [
    "#Modify Usernames with Range\n",
    "#Write a for loop that uses range() to iterate over the positions in usernames to modify the list. Like you did in the previous quiz, change each name to be lowercase and replace spaces with underscores. After running your loop, this list\n",
    "\n",
    "#usernames = [\"Joey Tribbiani\", \"Monica Geller\", \"Chandler Bing\", \"Phoebe Buffay\"]\n",
    "\n",
    "#should change to this:\n",
    "\n",
    "#usernames = [\"joey_tribbiani\", \"monica_geller\", \"chandler_bing\", \"phoebe_buffay\"]\n",
    "\n",
    "usernames = [\"Joey Tribbiani\", \"Monica Geller\", \"Chandler Bing\", \"Phoebe Buffay\"]\n",
    "\n",
    "# write your for loop here\n",
    "for i in range(len(usernames)):\n",
    "    usernames[i] = usernames[i].lower()\n",
    "    usernames[i] = usernames[i].replace(' ' , '_')\n",
    "\n",
    "print(usernames)"
   ]
  },
  {
   "cell_type": "markdown",
   "metadata": {
    "heading_collapsed": true
   },
   "source": [
    "# usernames_range.py"
   ]
  },
  {
   "cell_type": "code",
   "execution_count": 137,
   "metadata": {
    "hidden": true
   },
   "outputs": [
    {
     "name": "stdout",
     "output_type": "stream",
     "text": [
      "['joey_tribbiani', 'monica_geller', 'chandler_bing', 'phoebe_buffay']\n"
     ]
    }
   ],
   "source": [
    "#Write a for loop that iterates over the names list to create a usernames list. To create a username for each name, make everything lowercase and replace spaces with underscores. Running your for loop over the list:\n",
    "\n",
    "names = [\"Joey Tribbiani\", \"Monica Geller\", \"Chandler Bing\", \"Phoebe Buffay\"]\n",
    "\n",
    "\n",
    "#should create \n",
    "\n",
    "\n",
    "#usernames = [\"joey_tribbiani\", \"monica_geller\", \"chandler_bing\", \"phoebe_buffay\"]\n",
    "\n",
    "\n",
    "#HINT: Use the .replace() method to replace the spaces with underscores. Check out how to use this method in this: \n",
    "\n",
    "#https://stackoverflow.com/a/12723785\n",
    "\n",
    "\n",
    "names = [\"Joey Tribbiani\", \"Monica Geller\", \"Chandler Bing\", \"Phoebe Buffay\"]\n",
    "usernames = []\n",
    "\n",
    "# write your for loop here\n",
    "for i in range(len(names)):\n",
    "    usernames.append(names[i])\n",
    "    usernames[i] = names[i].replace(' ' , '_').lower()\n",
    "\n",
    "print(usernames)"
   ]
  },
  {
   "cell_type": "markdown",
   "metadata": {
    "heading_collapsed": true
   },
   "source": [
    "# which_prize.py"
   ]
  },
  {
   "cell_type": "code",
   "execution_count": 33,
   "metadata": {
    "hidden": true
   },
   "outputs": [
    {
     "name": "stdout",
     "output_type": "stream",
     "text": [
      "Congratulations! You won a wafer-thin mint!\n"
     ]
    }
   ],
   "source": [
    "#Practice: Which Prize\n",
    "#Write an if statement that lets a competitor know which of these prizes they won based on the number of points they scored, \n",
    "#which is stored in the integer variable points.\n",
    "\n",
    "#Points\tPrize\n",
    "#1 - 50#\twooden rabbit\n",
    "#51 - 150#\tno prize\n",
    "#151 - 180#\twafer-thin mint\n",
    "#181 - 200#\tpenguin\n",
    "#All of the lower and upper bounds here are inclusive, and points can only take on positive integer values up to 200.\n",
    "\n",
    "#In your if statement, assign the result variable to a string holding the appropriate message based on the value of points. \n",
    "#If they've won a prize, the message should state \"Congratulations! You won a [prize name]!\" with the prize name.\n",
    "#If there's no prize, the message should state \"Oh dear, no prize this time.\"\n",
    "\n",
    "#Note: Feel free to test run your code with other inputs, but when you submit your answer, only use the original input of points = 174. You can hide your other inputs by commenting them out.\n",
    "\n",
    "\n",
    "\n",
    "points = 174     # use this input to make your submission\n",
    "\n",
    "list_of_prizes = ['wooden rabbit','no prize' , 'wafer-thin mint', 'penguin']\n",
    "\n",
    "# write your if statement here\n",
    "def pointChecker(point):\n",
    "    if  1 <= point <= 50:\n",
    "        result = \"Congratulations! You won a {}!\".format(list_of_prizes[0])\n",
    "        return result\n",
    "    \n",
    "    elif  51 <= point <= 150:\n",
    "        result = \"Oh dear, {} this time.\".format(list_of_prizes[1])\n",
    "        return result\n",
    "    \n",
    "    elif  151 <= point <= 180:\n",
    "        result =\"Congratulations! You won a {}!\".format(list_of_prizes[2])\n",
    "        return result\n",
    "    \n",
    "    elif  181 <= point <= 200:\n",
    "        result =\"Congratulations! You won a {}!\".format(list_of_prizes[3])\n",
    "        return result\n",
    "\n",
    "print(pointChecker(points))"
   ]
  },
  {
   "cell_type": "markdown",
   "metadata": {
    "heading_collapsed": true
   },
   "source": [
    "# while_example1.py"
   ]
  },
  {
   "cell_type": "code",
   "execution_count": 56,
   "metadata": {
    "hidden": true
   },
   "outputs": [
    {
     "name": "stdout",
     "output_type": "stream",
     "text": [
      "11\n"
     ]
    }
   ],
   "source": [
    "#Count By\n",
    "#Suppose you want to count from some number start_num by another number count_by until you hit a final number end_num.\n",
    "#Use break_num as the variable that you'll change each time through the loop. \n",
    "#For simplicity, assume that end_num is always larger than start_num and count_by is always positive.\n",
    "\n",
    "#Before the loop, what do you want to set break_num equal to? count_by\n",
    "#How do you want to change break_num each time through the loop? break_num += 1\n",
    "#What condition will you use to see when it's time to stop looping? break_num > end_num < count_by\n",
    "\n",
    "#After the loop is done, print out break_num, showing the value that indicated it was time to stop looping.\n",
    "#It is the case that break_num should be a number that is the first number larger than end_num.\n",
    "\n",
    "\n",
    "break_num = 1            #break_num as the variable that you'll change each time through the loop\n",
    "start_num = 1            #provide some start number\n",
    "end_num = 10             #provide some end number that you stop when you hit\n",
    "count_by = 1             #provide some number to count by \n",
    "\n",
    "# write a while loop that uses break_num as the ongoing number to \n",
    "#   check against end_num\n",
    "\n",
    "while start_num < end_num:\n",
    "    break_num += 1 \n",
    "    count_by += 1\n",
    "    \n",
    "    if break_num > end_num:\n",
    "        break\n",
    "\n",
    "\n",
    "print(break_num)"
   ]
  },
  {
   "cell_type": "markdown",
   "metadata": {
    "heading_collapsed": true
   },
   "source": [
    "# while_example2.py"
   ]
  },
  {
   "cell_type": "code",
   "execution_count": 64,
   "metadata": {
    "hidden": true
   },
   "outputs": [
    {
     "name": "stdout",
     "output_type": "stream",
     "text": [
      "enter start number? 1\n",
      "enter end number? 10\n",
      "11\n"
     ]
    }
   ],
   "source": [
    "#Count By Check\n",
    "#Suppose you want to count from some number start_num by another number count_by until you hit a final number end_num,\n",
    "#and calculate break_num the way you did in the last quiz.\n",
    "\n",
    "#Now in addition, address what would happen if someone gives a start_num that is greater than end_num. \n",
    "#If this is the case, set result to \"Oops! Looks like your start value is greater than the end value. \n",
    "#Please try again.\" Otherwise, set result to the value of break_num.\n",
    "\n",
    "start_num = int(input('enter start number? '))       #provide some start number\n",
    "end_num = int(input('enter end number? '))            #provide some end number that you stop when you hit\n",
    "count_by = 1                                           #provide some number to count by \n",
    "break_num = 1 \n",
    "# write a condition to check that end_num is larger than start_num before looping\n",
    "# write a while loop that uses break_num as the ongoing number to \n",
    "#   check against end_num\n",
    "if start_num < end_num:    \n",
    "    while start_num < end_num:\n",
    "        break_num += 1 \n",
    "        count_by += 1\n",
    "        results = break_num\n",
    "        if break_num > end_num:\n",
    "            break\n",
    "else:\n",
    "    print(\"Oops! Looks like your start value is greater than the end value. Please try again.\")\n",
    "\n",
    "\n",
    "print(results)"
   ]
  },
  {
   "cell_type": "markdown",
   "metadata": {
    "heading_collapsed": true
   },
   "source": [
    "# xml_tag_counter.py"
   ]
  },
  {
   "cell_type": "code",
   "execution_count": 106,
   "metadata": {
    "hidden": true
   },
   "outputs": [
    {
     "name": "stdout",
     "output_type": "stream",
     "text": [
      "2\n"
     ]
    }
   ],
   "source": [
    "#Tag Counter\n",
    "#Write a for loop that iterates over a list of strings, tokens, and counts how many of them are XML tags. XML is a data language similar to HTML. You can tell if a string is an XML tag if it begins with a left angle bracket \"<\" and ends with a right angle bracket \">\". Keep track of the number of tags using the variable count.\n",
    "\n",
    "#You can assume that the list of strings will not contain empty strings.\n",
    "\n",
    "\n",
    "tokens = ['<greeting>', 'Hello World!', '</greeting>']\n",
    "count = 0\n",
    "\n",
    "# write your for loop here\n",
    "XMLtokens = []\n",
    "\n",
    "for i in tokens:\n",
    "    if i.endswith('>') or i.startswith('<') or i.startswith('</'):\n",
    "        XMLtokens.append(i)\n",
    "        \n",
    "count += len(XMLtokens)                \n",
    "\n",
    "print(count)"
   ]
  },
  {
   "cell_type": "code",
   "execution_count": 101,
   "metadata": {
    "hidden": true
   },
   "outputs": [
    {
     "data": {
      "text/plain": [
       "True"
      ]
     },
     "execution_count": 101,
     "metadata": {},
     "output_type": "execute_result"
    }
   ],
   "source": [
    "tokens[0].endswith('>')"
   ]
  },
  {
   "cell_type": "markdown",
   "metadata": {
    "heading_collapsed": true
   },
   "source": [
    "# zip_coordinates.py"
   ]
  },
  {
   "cell_type": "code",
   "execution_count": 88,
   "metadata": {
    "hidden": true
   },
   "outputs": [
    {
     "name": "stdout",
     "output_type": "stream",
     "text": [
      "F: 23, 677, 4\n",
      "J: 53, 233, 16\n",
      "A: 2, 405, -6\n",
      "Q: -12, 433, -42\n",
      "Y: 95, 905, 3\n",
      "B: 103, 376, -6\n",
      "W: 14, 432, 23\n",
      "X: -5, 445, -1\n"
     ]
    }
   ],
   "source": [
    "#Zip Coordinates\n",
    "#Use zip to write a for loop that creates a string specifying the label and coordinates of each point and appends it to the list points. Each string should be formatted as label: x, y, z. For example, the string for the first coordinate should be F: 23, 677, 4.\n",
    "\n",
    "\n",
    "x_coord = [23, 53, 2, -12, 95, 103, 14, -5]\n",
    "y_coord = [677, 233, 405, 433, 905, 376, 432, 445]\n",
    "z_coord = [4, 16, -6, -42, 3, -6, 23, -1]\n",
    "labels = [\"F\", \"J\", \"A\", \"Q\", \"Y\", \"B\", \"W\", \"X\"]\n",
    "\n",
    "points = []\n",
    "# write your for loop here\n",
    "cord_list = []\n",
    "for i in range(len(x_coord)):\n",
    "    temp = x_coord[i],y_coord[i],z_coord[i]\n",
    "    cord_list.append(temp)\n",
    "\n",
    "points = list(zip(labels , cord_list))\n",
    "for point in points:\n",
    "    print('{}: {}, {}, {}'.format(point[0] , point[1][0],point[1][1], point[1][2]))"
   ]
  },
  {
   "cell_type": "markdown",
   "metadata": {
    "heading_collapsed": true
   },
   "source": [
    "# zip_dict.py"
   ]
  },
  {
   "cell_type": "code",
   "execution_count": 42,
   "metadata": {
    "hidden": true
   },
   "outputs": [
    {
     "name": "stdout",
     "output_type": "stream",
     "text": [
      "{'Barney': 72, 'Robin': 68, 'Ted': 72, 'Lily': 66, 'Marshall': 76}\n"
     ]
    }
   ],
   "source": [
    "#Zip Lists to a Dictionary\n",
    "#Use zip to create a dictionary cast that uses names as keys and heights as values.\n",
    "\n",
    "cast_names = [\"Barney\", \"Robin\", \"Ted\", \"Lily\", \"Marshall\"]\n",
    "cast_heights = [72, 68, 72, 66, 76]\n",
    "\n",
    "\n",
    "cast = dict(zip(cast_names,cast_heights))\n",
    "print(cast)"
   ]
  }
 ],
 "metadata": {
  "kernelspec": {
   "display_name": "Python 3",
   "language": "python",
   "name": "python3"
  },
  "language_info": {
   "codemirror_mode": {
    "name": "ipython",
    "version": 3
   },
   "file_extension": ".py",
   "mimetype": "text/x-python",
   "name": "python",
   "nbconvert_exporter": "python",
   "pygments_lexer": "ipython3",
   "version": "3.7.5"
  }
 },
 "nbformat": 4,
 "nbformat_minor": 4
}
