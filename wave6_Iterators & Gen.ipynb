{
 "cells": [
  {
   "cell_type": "markdown",
   "metadata": {},
   "source": [
    "# Chunker"
   ]
  },
  {
   "cell_type": "code",
   "execution_count": 138,
   "metadata": {},
   "outputs": [
    {
     "name": "stdout",
     "output_type": "stream",
     "text": [
      "[0, 1, 2, 3]\n",
      "[4, 5, 6, 7]\n",
      "[8, 9, 10, 11]\n",
      "[12, 13, 14, 15]\n",
      "[16, 17, 18, 19]\n",
      "[20, 21, 22, 23]\n",
      "[24]\n"
     ]
    }
   ],
   "source": [
    "#If you have an iterable that is too large to fit in memory in full (e.g., when dealing with large files), being able to take and use chunks of it at a time can be very valuable.\n",
    "\n",
    "#Implement a generator function, chunker, that takes in an iterable and yields a chunk of a specified size at a time.\n",
    "\n",
    "#Calling the function like this:\n",
    "\n",
    "#for chunk in chunker(range(25), 4):\n",
    "#    print(list(chunk))\n",
    "#should output:\n",
    "\n",
    "#[0, 1, 2, 3]\n",
    "#[4, 5, 6, 7]\n",
    "#[8, 9, 10, 11]\n",
    "#[12, 13, 14, 15]\n",
    "#[16, 17, 18, 19]\n",
    "#[20, 21, 22, 23]\n",
    "#[24]\n",
    "\n",
    "def chunker(iterable, size):\n",
    "    # Implement function here\n",
    "    my_list = [i for i in iterable]\n",
    "    for eachelement in my_list:\n",
    "            val2print1 = my_list[:size]\n",
    "            yield val2print1\n",
    "            val2print2 = my_list[size : size*2]\n",
    "            yield val2print2\n",
    "            val2print3 = my_list[size*2 : size*3]\n",
    "            yield val2print3\n",
    "            val2print4 = my_list[size*3 : size*4]\n",
    "            yield val2print4\n",
    "            val2print5 = my_list[size*4 : size*5]\n",
    "            yield val2print5\n",
    "            val2print6 = my_list[size*5:size*6]\n",
    "            yield val2print6\n",
    "            val2print7 = my_list[size*6:size*7]\n",
    "            yield val2print7\n",
    "            break\n",
    "\n",
    "\n",
    "for chunk in chunker(range(25), 4):\n",
    "    print(list(chunk))"
   ]
  },
  {
   "cell_type": "markdown",
   "metadata": {
    "heading_collapsed": true
   },
   "source": [
    "# My Enumerator"
   ]
  },
  {
   "cell_type": "code",
   "execution_count": 6,
   "metadata": {
    "hidden": true
   },
   "outputs": [
    {
     "name": "stdout",
     "output_type": "stream",
     "text": [
      "<class 'generator'>\n",
      "Lesson 1: Why Python Programming\n",
      "Lesson 2: Data Types and Operators\n",
      "Lesson 3: Control Flow\n",
      "Lesson 4: Functions\n",
      "Lesson 5: Scripting\n"
     ]
    }
   ],
   "source": [
    "#Write your own generator function that works like the built-in function, enumerate.\n",
    "\n",
    "#Calling the function like this:\n",
    "\n",
    "#lessons = [\"Why Python Programming\", \"Data Types and Operators\", \"Control Flow\", \"Functions\", \"Scripting\"]\n",
    "\n",
    "#for i, lesson in my_enumerate(lessons, 1):\n",
    "#    print(\"Lesson {}: {}\".format(i, lesson))\n",
    "\n",
    "#should output:\n",
    "\n",
    "#Lesson 1: Why Python Programming\n",
    "#Lesson 2: Data Types and Operators\n",
    "#Lesson 3: Control Flow\n",
    "#Lesson 4: Functions\n",
    "#Lesson 5: Scripting\n",
    "\n",
    "lessons = [\"Why Python Programming\", \"Data Types and Operators\", \"Control Flow\", \"Functions\", \"Scripting\"]\n",
    "\n",
    "def my_enumerate(iterable, start=0):\n",
    "    # Implement your generator function here\n",
    "    for ind, val in enumerate(iterable, start):\n",
    "        yield ind,val\n",
    "\n",
    "print(type(my_enumerate(lessons, 1)))\n",
    "for i, lesson in my_enumerate(lessons, 1):\n",
    "    print(\"Lesson {}: {}\".format(i, lesson))"
   ]
  }
 ],
 "metadata": {
  "kernelspec": {
   "display_name": "Python 3",
   "language": "python",
   "name": "python3"
  },
  "language_info": {
   "codemirror_mode": {
    "name": "ipython",
    "version": 3
   },
   "file_extension": ".py",
   "mimetype": "text/x-python",
   "name": "python",
   "nbconvert_exporter": "python",
   "pygments_lexer": "ipython3",
   "version": "3.7.9"
  }
 },
 "nbformat": 4,
 "nbformat_minor": 4
}
